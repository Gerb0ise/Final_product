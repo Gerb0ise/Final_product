{
 "cells": [
  {
   "cell_type": "markdown",
   "source": [
    "# PROJECT: Modeling Magnetic Resonance using QuTiP\n",
    "### **Maastricht Science Programme, Project Period January 2022**\n",
    "### **Supplementary Notebook**"
   ],
   "metadata": {
    "collapsed": false
   }
  },
  {
   "cell_type": "markdown",
   "source": [
    "## Table of Contents"
   ],
   "metadata": {
    "collapsed": false
   }
  },
  {
   "cell_type": "markdown",
   "id": "47e27b6e",
   "metadata": {},
   "source": [
    "## Introduction\n",
    "\n",
    "This notebook will guide the user through several quantum mechanics concepts using various different interactive animations. These concepts include **visualizing H-orbitals** and **magnetic fields**.\n",
    "\n",
    "##### References\n",
    "- https://dpotoyan.github.io/Chem324/H-atom-wavef.html\n",
    "- https://demonstrations.wolfram.com/HydrogenAtomRadialFunctions/\n",
    "- https://github.com/kimfetti/Videos/blob/master/ipywidgets/03_quick_animation.ipynb"
   ]
  },
  {
   "cell_type": "markdown",
   "id": "0cb949cc",
   "metadata": {},
   "source": [
    "## Libraries\n",
    "\n",
    "To start this notebook, libraries and their features need to be imported."
   ]
  },
  {
   "cell_type": "code",
   "execution_count": 13,
   "id": "29c3bc2c",
   "metadata": {},
   "outputs": [],
   "source": [
    "from qutip import *\n",
    "import numpy as np\n",
    "from pylab import *\n",
    "import matplotlib.pyplot as plt\n",
    "from matplotlib import cm, colors\n",
    "from mpl_toolkits.mplot3d import Axes3D\n",
    "import ipywidgets as widgets\n",
    "import scipy.special as spe\n",
    "from mpl_toolkits import mplot3d"
   ]
  },
  {
   "cell_type": "markdown",
   "id": "54db41e9",
   "metadata": {},
   "source": [
    "## Radial plots and orbitals"
   ]
  },
  {
   "cell_type": "markdown",
   "id": "f3c54e83",
   "metadata": {},
   "source": [
    "Using Laguerre special functions from the SciPy library a radial plot and radial probability plot are generated. The user can change the input for the principle (n) and the orbital (l) quantum numbers by adjusting the sliders."
   ]
  },
  {
   "cell_type": "code",
   "execution_count": 2,
   "id": "bee475cf",
   "metadata": {},
   "outputs": [],
   "source": [
    "#Radial part of the wavefunction (R10 --> a0=a^(3/2))\n",
    "#Uses the special functions where Laguerre polynomials are defined \n",
    "def psi_R(r,n,l):\n",
    "\n",
    "    w = np.sqrt((2.0/n)**3 * spe.factorial(n-l-1) /(2.0*n*spe.factorial(n+l)))\n",
    "    \n",
    "    x = spe.assoc_laguerre(2.0*r/n,n-l-1,2*l+1)\n",
    "    \n",
    "    y = np.exp(-r/n)\n",
    "    \n",
    "    z = (2.0*r/n)**l\n",
    "    \n",
    "    answer = w*x*y*z\n",
    "    return answer"
   ]
  },
  {
   "cell_type": "code",
   "execution_count": 17,
   "id": "5df7e643",
   "metadata": {},
   "outputs": [
    {
     "data": {
      "application/vnd.jupyter.widget-view+json": {
       "model_id": "2dd41cc41e0e4beba27d6d39ede2dcf9",
       "version_major": 2,
       "version_minor": 0
      },
      "text/plain": [
       "interactive(children=(IntSlider(value=3, description='n', max=5, min=1), IntSlider(value=0, description='l', m…"
      ]
     },
     "metadata": {},
     "output_type": "display_data"
    },
    {
     "data": {
      "text/plain": [
       "<function __main__.radial_function(n, l=0)>"
      ]
     },
     "execution_count": 17,
     "metadata": {},
     "output_type": "execute_result"
    }
   ],
   "source": [
    "def radial_function (n, l=0):\n",
    "    x = np.linspace(0,10,100) \n",
    "    y = psi_R(x,n,l) \n",
    "    E_y = np.absolute((y**2))*(x**2)\n",
    "    \n",
    "    #Radial function \n",
    "    plt.subplot(211)\n",
    "    plt.plot(x, y**2, lw=3)\n",
    "    plt.xlabel('$r [a_0]$',fontsize=20)\n",
    "    plt.ylabel('$R_{nl}(r)$', fontsize=20)\n",
    "    plt.grid('True')\n",
    "    \n",
    "    #Radial probability density plot \n",
    "    plt.subplot(212)\n",
    "    plt.plot(x, E_y, color='orange', lw=3, )\n",
    "    plt.xlabel('$r [a_0]$',fontsize=20)\n",
    "    plt.ylabel('$r^2R^2_{nl}(r)$', fontsize=20)\n",
    "    plt.grid('True')\n",
    "    \n",
    "widgets.interact(radial_function, n=(1,5,1), l=(0,5,1))\n"
   ]
  },
  {
   "cell_type": "markdown",
   "id": "037568fd",
   "metadata": {},
   "source": [
    "Using the spherical harmonics function from the SciPy library the angular part of the hydrogen wavefunction can be generated. The user can adjust the input for the principle (n) and magnetic quantum number with the widgets below."
   ]
  },
  {
   "cell_type": "code",
   "execution_count": 7,
   "id": "b7a9c6ce",
   "metadata": {},
   "outputs": [],
   "source": [
    "def psi_ang(m, n, theta, phi):\n",
    "    \n",
    "    sphHarm = spe.sph_harm(m, n, theta, phi) \n",
    "    #theta in [0, 2pi] and phi in [0, pi]\n",
    "    #computes spherical harmonics using associated Legendre functions (Pnm)\n",
    "    print(sphHarm.real)\n",
    "    return sphHarm.real"
   ]
  },
  {
   "cell_type": "code",
   "execution_count": 8,
   "id": "73f77e1a",
   "metadata": {},
   "outputs": [],
   "source": [
    "# computes the spherical harmonics on a grid\n",
    "phi, theta = np.linspace(0, np.pi, 100), np.linspace(0, 2*np.pi, 100)\n",
    "phi, theta = np.meshgrid(phi, theta) #creates rectangular grid out of phi and theta values"
   ]
  },
  {
   "cell_type": "code",
   "execution_count": 9,
   "id": "277509ff",
   "metadata": {},
   "outputs": [
    {
     "name": "stdout",
     "output_type": "stream",
     "text": [
      "Lets compute spherical harmonics of the H atom.\n"
     ]
    },
    {
     "data": {
      "application/vnd.jupyter.widget-view+json": {
       "model_id": "3f0eaa33e4c244e2b920ea8f8f3f86e7",
       "version_major": 2,
       "version_minor": 0
      },
      "text/plain": [
       "interactive(children=(IntSlider(value=2, description='yn', max=4), IntSlider(value=2, description='ym', max=4)…"
      ]
     },
     "metadata": {},
     "output_type": "display_data"
    },
    {
     "data": {
      "text/plain": [
       "<function __main__.Quantum_number(yn, ym)>"
      ]
     },
     "execution_count": 9,
     "metadata": {},
     "output_type": "execute_result"
    }
   ],
   "source": [
    "print(\"Lets compute spherical harmonics of the H atom.\")\n",
    "\n",
    "def Quantum_number (yn, ym):\n",
    "    \n",
    "    Ymn = psi_ang(yn, ym, theta, phi)\n",
    "    #phi and theta array\n",
    "\n",
    "    # spherical to Cartesian coordinates \n",
    "    x = np.sin(phi) * np.cos(theta) * abs(Ymn)\n",
    "    y = np.sin(phi) * np.sin(theta) * abs(Ymn)\n",
    "    z = np.cos(phi) * abs(Ymn)\n",
    "    \n",
    "    fig = plt.figure(figsize=(10,10))\n",
    "    ax = fig.add_subplot(111, projection='3d')\n",
    "\n",
    "    ''' Normalize color bar to [0,1] scale'''\n",
    "\n",
    "    fcolors = (Ymn - Ymn.min())/(Ymn.max() - Ymn.min())\n",
    "\n",
    "    '''Make 3D plot of real part of spherical harmonic'''\n",
    "\n",
    "    ax.plot_surface(x, y, z, facecolors=cm.seismic(fcolors), alpha=0.3)\n",
    "\n",
    "\n",
    "    ''' Set axes limit to keep aspect ratio 1:1:1 '''\n",
    "\n",
    "    ax.set_xlim(-1, 1)\n",
    "    ax.set_ylim(-1, 1)\n",
    "    ax.set_zlim(-1, 1)\n",
    "    \n",
    "    \n",
    "\n",
    "widgets.interact(Quantum_number, yn=(0,4,1), ym=(0,4,1))"
   ]
  },
  {
   "cell_type": "markdown",
   "id": "81481e02",
   "metadata": {},
   "source": [
    "## Static and oscillating magnetic field"
   ]
  },
  {
   "cell_type": "markdown",
   "id": "2a70c8a9",
   "metadata": {},
   "source": [
    "This part of the notebook will introduce an interactive visualization of spin 1/2 particle placed into a magnetic field. The magnetic field is made up of a static and an oscillating magnetic field. The static component is in the z-direction and the oscillating component is along the x-direction. "
   ]
  },
  {
   "cell_type": "markdown",
   "id": "67ee6d74",
   "metadata": {},
   "source": [
    "The static magnetic field along the z-direction is plotted below. The strength of the field is denoted by Bz and can be adjusted using the sliders. The maximum of the magnetic field can be determined by the user."
   ]
  },
  {
   "cell_type": "code",
   "execution_count": 11,
   "id": "293ec263",
   "metadata": {},
   "outputs": [
    {
     "name": "stdout",
     "output_type": "stream",
     "text": [
      "What should the maximum field strength along the z-axis be?\n",
      "Bz = 5\n"
     ]
    },
    {
     "data": {
      "application/vnd.jupyter.widget-view+json": {
       "model_id": "5d0bd35444db406f919ed1e37dc7e66c",
       "version_major": 2,
       "version_minor": 0
      },
      "text/plain": [
       "interactive(children=(FloatSlider(value=2.0, description='Bz', max=5.0, step=1.0), Output()), _dom_classes=('w…"
      ]
     },
     "metadata": {},
     "output_type": "display_data"
    },
    {
     "data": {
      "text/plain": [
       "<function __main__.magneticfield_z(Bz)>"
      ]
     },
     "execution_count": 11,
     "metadata": {},
     "output_type": "execute_result"
    }
   ],
   "source": [
    "#Lets place our spin-1/2 particle in a magnetic field.\n",
    "print(\"What should the maximum field strength along the z-axis be?\")\n",
    "\n",
    "A = float(input(\"Bz = \"))\n",
    "def magneticfield_z(Bz): #Function to plot our static magnetic field\n",
    "    lines_plotted = plt.plot([]) #Empty plot\n",
    "    plt.ylim(0,(A + 1)) #Want y-limit to always be slightly higher than the input max, so that we can see the field line\n",
    "    line_plotted = lines_plotted[0]\n",
    "    plt.xlim(0,2*np.pi)\n",
    "    x = np.linspace(0,2*np.pi,100)\n",
    "    line_plotted.set_data((x, Bz))\n",
    "    \n",
    "widgets.interact(magneticfield_z, Bz=(0.0, A, 1.0)) \n",
    "\n"
   ]
  },
  {
   "cell_type": "markdown",
   "id": "7259bb74",
   "metadata": {},
   "source": [
    "The oscillating component along the x-axis is plotted below. The magnetic field strength is denoted with Bx and can be adjusted by the user with the widget. The magnetic field oscillates at the angular frequency (w), which also can be adjusted by the user. The maximum of both the magentic field strength and the angular frequency can be determined by the user.\n",
    "\n",
    "This will generate an animation that loops over time, which can be played by clicking the play button. Clicking the loop button will create an animation that loops indefinitely. By playing the animation and adjusting the field strength and the angular frequency, the user can see how this changes the magnetic field."
   ]
  },
  {
   "cell_type": "code",
   "execution_count": 12,
   "id": "006d1a9d",
   "metadata": {},
   "outputs": [
    {
     "name": "stdout",
     "output_type": "stream",
     "text": [
      "What should the maximum field strength along the x-axis be?\n",
      "Bx = 6\n",
      "What should the maximum of the angular frequency be?\n",
      "The angular frequency is: 8\n"
     ]
    },
    {
     "data": {
      "application/vnd.jupyter.widget-view+json": {
       "model_id": "5a2f0b4de8a042c48c962c04c096f39d",
       "version_major": 2,
       "version_minor": 0
      },
      "text/plain": [
       "interactive(children=(FloatSlider(value=4.0, description='Bx', max=6.0, step=1.0), FloatSlider(value=4.0, desc…"
      ]
     },
     "metadata": {},
     "output_type": "display_data"
    },
    {
     "data": {
      "text/plain": [
       "<function __main__.plot(Bx=4.0, w=4.0, t=0.0)>"
      ]
     },
     "execution_count": 12,
     "metadata": {},
     "output_type": "execute_result"
    }
   ],
   "source": [
    "#Lets place our spin-1/2 particle in a magnetic field.\n",
    "\n",
    "print(\"What should the maximum field strength along the x-axis be?\")\n",
    "C = float(input(\"Bx = \"))\n",
    "\n",
    "print(\"What should the maximum of the angular frequency be?\")\n",
    "D = float(input(\"The angular frequency is: \"))\n",
    "\n",
    "def plot(Bx=4.0, w=4.0, t=0.0):\n",
    "    lines_plotted = plt.plot([])\n",
    "\n",
    "    plt.ylim(-10, 10)\n",
    "    line_plotted = lines_plotted[0]\n",
    "    plt.xlim(0, 2 * np.pi)\n",
    "\n",
    "    x = np.linspace(0, 2 * np.pi, 100)\n",
    "    B_x = 0\n",
    "\n",
    "    B_x = C * np.cos(x + w * t)  \n",
    "    line_plotted.set_data((x, B_x))\n",
    "\n",
    "\n",
    "\n",
    "# widget that slides for amplitude and frequency and loops for time\n",
    "\n",
    "# w = increments of half pi\n",
    "# click on loop button to loop over time otherwise it lasts 30 sec\n",
    "widgets.interact(plot, Bx=(0.0, C, 1.0), w=(0.0, D, np.pi / 2), t=widgets.Play(min=0.0, max=30.0))"
   ]
  },
  {
   "cell_type": "markdown",
   "id": "2360d3b6",
   "metadata": {},
   "source": [
    "The static and the oscillating magnetic field act on the spin 1/2 particle at the same time. This is visualized in the plot below. The spin 1/2 plot is denoted by a sphere in the middle\n",
    "\n",
    "The user can adjust the slides to change the strenght of the magnetic field in both the z-direction (Bz) and the x-direction (Bx), the user can also change the angular frequency (w) for the oscillating magnetic field. Again an animation is made that loops over time, which can be played by clicking the play button, or looped over indefinitely by clicking the loop button. While the animation plays the magnetic fields and the angular frequency can be adjusted."
   ]
  },
  {
   "cell_type": "code",
   "execution_count": 16,
   "id": "bc2c5811",
   "metadata": {},
   "outputs": [
    {
     "data": {
      "application/vnd.jupyter.widget-view+json": {
       "model_id": "cdf106febde34b01b2d1b3ecc5c4abee",
       "version_major": 2,
       "version_minor": 0
      },
      "text/plain": [
       "interactive(children=(FloatSlider(value=5.0, description='Bx', max=10.0, step=1.0), FloatSlider(value=4.712388…"
      ]
     },
     "metadata": {},
     "output_type": "display_data"
    },
    {
     "data": {
      "text/plain": [
       "<function __main__.plot_3D(Bx, w, Bz, t)>"
      ]
     },
     "execution_count": 16,
     "metadata": {},
     "output_type": "execute_result"
    }
   ],
   "source": [
    "def plot_3D (Bx, w, Bz, t):\n",
    "    \n",
    "    fig = plt.figure()\n",
    "    ax = fig.add_subplot(111, projection ='3d')\n",
    "\n",
    "    # defining 3 axes for oscillating field\n",
    "    x1 = np.linspace(-10,10,50)\n",
    "    y1 = np.linspace(-10,10,50)\n",
    "    z1 = Bx* np.cos(y1+w*t) \n",
    "\n",
    "    # np.zeros_like makes sure the x-axis is zero, to get a 2D plot\n",
    "    ax.plot(np.zeros_like(z1),y1,z1)\n",
    "\n",
    "    #defining axis for static field\n",
    "    z2=np.linspace(-(Bz),Bz,50)\n",
    "\n",
    "    ax.plot(np.zeros_like(z2),np.zeros_like(z2),z2)\n",
    "\n",
    "    # adding dot that could represent a hydrogen atom\n",
    "    ax.scatter(0,0,0, s=500, c='pink')\n",
    "\n",
    "    # limits on axes\n",
    "    ax.set_xlim(-10,10)\n",
    "    ax.set_ylim(-10,10)\n",
    "    ax.set_zlim(-10,10)\n",
    "\n",
    "    # axis labels\n",
    "    ax.set_xlabel(\"x\")\n",
    "    ax.set_ylabel(\"y\")\n",
    "    ax.set_zlabel(\"z\")\n",
    "\n",
    "\n",
    "    # plotting\n",
    "    fig.set_size_inches(7, 7)\n",
    "    plt.show()\n",
    "    \n",
    "    \n",
    "widgets.interact(plot_3D, Bx=(0.0, 10, 1.0), w=(0.0, 10, np.pi / 2), Bz=(0.0, 10, 1.0), t=widgets.Play(min=0.0, max=30.0))"
   ]
  }
 ],
 "metadata": {
  "kernelspec": {
   "display_name": "Python 3 (ipykernel)",
   "language": "python",
   "name": "python3"
  },
  "language_info": {
   "codemirror_mode": {
    "name": "ipython",
    "version": 3
   },
   "file_extension": ".py",
   "mimetype": "text/x-python",
   "name": "python",
   "nbconvert_exporter": "python",
   "pygments_lexer": "ipython3",
   "version": "3.9.7"
  }
 },
 "nbformat": 4,
 "nbformat_minor": 5
}